{
 "cells": [
  {
   "cell_type": "code",
   "execution_count": 14,
   "metadata": {},
   "outputs": [],
   "source": [
    "import spacy\n",
    "import nltk \n",
    "import string\n",
    "text = \"The COVID-19 pandemic has affected economies worldwide. In the U.S., millions lost their jobs. Many people relied on stimulus checks and the unemployment rate soared to record highs. Tech companies like Google and Microsoft adapted to remote work. Meanwhile, vaccination efforts are ongoing, and the government is urging people to get vaccinated. However, there is still a lot of misinformation online.\"\n",
    "#text = \"Ever noticed how plane seats appear to be getting smaller and smaller? With increasing numbers of people taking to the skies, some experts are questioning if having such packed out planes is putting passengers at risk. They say that the shrinking space on aeroplanes is not only uncomfortable - it's putting our health and safety in danger. More than squabbling over the arm rest, shrinking space on planes putting our health and safety in danger? This week, a U.S consumer advisory group set up by the Department of Transportation said at a public hearing that while the government is happy to set standards for animals flying on planes, it doesn't stipulate a minimum amount of space for humans. 'In a world where animals have more rights to space and food than humans,' said Charlie Leocha, consumer representative on the committee. 'It is time that the DOT and FAA take a stand for humane treatment of passengers.' But could crowding on planes lead to more serious issues than fighting for space in the overhead lockers, crashing elbows and seat back kicking? Tests conducted by the FAA use planes with a 31 inch pitch, a standard which on some airlines has decreased . Many economy seats on United Airlines have 30 inches of room, while some airlines offer as little as 28 inches . Cynthia Corbertt, a human factors researcher with the Federal Aviation Administration, that it conducts tests on how quickly passengers can leave a plane. But these tests are conducted using planes with 31 inches between each row of seats, a standard which on some airlines has decreased, reported the Detroit News. The distance between two seats from one point on a seat to the same point on the seat behind it is known as the pitch. While most airlines stick to a pitch of 31 inches or above, some fall below this. While United Airlines has 30 inches of space, Gulf Air economy seats have between 29 and 32 inches, Air Asia offers 29 inches and Spirit Airlines offers just 28 inches. British Airways has a seat pitch of 31 inches, while easyJet has 29 inches, Thomson's short haul seat pitch is 28 inches, and Virgin Atlantic's is 30-31.\"\n",
    "\n",
    "nlp = spacy.load('en_core_web_sm')\n",
    "doc = nlp(text)\n",
    "\n"
   ]
  },
  {
   "cell_type": "markdown",
   "metadata": {},
   "source": [
    "## <span style=\"color:pink\">Preprocessing</span>\n",
    "- Sentence tokenization\n",
    "- Sentence normalization\n",
    "- Sentence extra space removal"
   ]
  },
  {
   "cell_type": "code",
   "execution_count": 15,
   "metadata": {},
   "outputs": [
    {
     "name": "stdout",
     "output_type": "stream",
     "text": [
      "6\n",
      "the covid-19 pandemic has affected economies worldwide.\n",
      "in the u.s., millions lost their jobs.\n",
      "many people relied on stimulus checks and the unemployment rate soared to record highs.\n",
      "tech companies like google and microsoft adapted to remote work.\n",
      "meanwhile, vaccination efforts are ongoing, and the government is urging people to get vaccinated.\n",
      "however, there is still a lot of misinformation online.\n"
     ]
    }
   ],
   "source": [
    "#Sentence tokenization (chia đoạn văn thành từng câu)\n",
    "sentences = [sent.text for sent in doc.sents]\n",
    "\n",
    "#Sentence normalization (chuyển sang chữ thường)\n",
    "normalize_token = [sentence.lower() for sentence in sentences]\n",
    "\n",
    "#Space removal (xoá bỏ khoảng trắng dư thừa sao cho giữa mỗi từ đều có 1 khoảng trắng)\n",
    "cleaned_sentences = [\" \".join(sentence.split()) for sentence in normalize_token]\n",
    "\n",
    "print(len(cleaned_sentences))\n",
    "for i in cleaned_sentences:\n",
    "    print(i)\n"
   ]
  },
  {
   "cell_type": "markdown",
   "metadata": {},
   "source": [
    "## <span style=\"color:pink\">Setence to Vector</span>\n",
    "- Use pretrained model word2vec named <i><b>Google News<b></i>"
   ]
  },
  {
   "cell_type": "code",
   "execution_count": 5,
   "metadata": {},
   "outputs": [],
   "source": [
    "from gensim.models import KeyedVectors\n",
    "\n",
    "w2v = KeyedVectors.load_word2vec_format(\"GoogleNewsVector/GoogleNews-vectors-negative300.bin\",binary=True)\n",
    "vocab = w2v.index_to_key\n"
   ]
  },
  {
   "cell_type": "code",
   "execution_count": 25,
   "metadata": {},
   "outputs": [],
   "source": [
    "import numpy as np\n",
    "vector_sentences = []\n",
    "for sen in cleaned_sentences:\n",
    "    vector_sent = np.zeros(300)\n",
    "    for word in sen.split():\n",
    "        if word in vocab:\n",
    "            vector_sent = vector_sent + w2v[word]\n",
    "    vector_sentences.append(vector_sent)\n"
   ]
  },
  {
   "cell_type": "markdown",
   "metadata": {},
   "source": [
    "## <span style=\"color:pink\">K-means Clustering</span>"
   ]
  },
  {
   "cell_type": "code",
   "execution_count": 50,
   "metadata": {},
   "outputs": [],
   "source": [
    "from sklearn.cluster import KMeans\n",
    "\n",
    "n_clusters = 3\n",
    "kmeans = KMeans(n_clusters=n_clusters,random_state=1)\n",
    "kmeans = kmeans.fit(vector_sentences)\n",
    "\n"
   ]
  },
  {
   "cell_type": "code",
   "execution_count": 52,
   "metadata": {},
   "outputs": [
    {
     "name": "stdout",
     "output_type": "stream",
     "text": [
      "the covid-19 pandemic has affected economies worldwide. in the u.s., millions lost their jobs. many people relied on stimulus checks and the unemployment rate soared to record highs.\n"
     ]
    }
   ],
   "source": [
    "from sklearn.metrics import pairwise_distances_argmin_min\n",
    "#min distance\n",
    "closest,a = pairwise_distances_argmin_min(kmeans.cluster_centers_, vector_sentences)\n",
    "\n",
    "closest.sort()\n",
    "\n",
    "#summary\n",
    "summary = []\n",
    "for i in closest:\n",
    "    summary.append(cleaned_sentences[i])\n",
    "\n",
    "print(\" \".join(summary))"
   ]
  }
 ],
 "metadata": {
  "kernelspec": {
   "display_name": "Python 3",
   "language": "python",
   "name": "python3"
  },
  "language_info": {
   "codemirror_mode": {
    "name": "ipython",
    "version": 3
   },
   "file_extension": ".py",
   "mimetype": "text/x-python",
   "name": "python",
   "nbconvert_exporter": "python",
   "pygments_lexer": "ipython3",
   "version": "3.12.5"
  }
 },
 "nbformat": 4,
 "nbformat_minor": 2
}
